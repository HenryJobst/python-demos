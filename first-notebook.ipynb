{
 "cells": [
  {
   "cell_type": "markdown",
   "id": "b08401af",
   "metadata": {},
   "source": [
    "# Deklaration einer Variable:"
   ]
  },
  {
   "cell_type": "code",
   "execution_count": 3,
   "id": "56ad5ccb",
   "metadata": {},
   "outputs": [],
   "source": [
    "a = 12"
   ]
  },
  {
   "cell_type": "code",
   "execution_count": 4,
   "id": "7c73a474",
   "metadata": {},
   "outputs": [
    {
     "name": "stdout",
     "output_type": "stream",
     "text": [
      "Die Variable a = 12\n"
     ]
    }
   ],
   "source": [
    "print(f'Die Variable a = {a}')"
   ]
  },
  {
   "cell_type": "code",
   "execution_count": null,
   "id": "fbe0e13f",
   "metadata": {},
   "outputs": [],
   "source": []
  }
 ],
 "metadata": {
  "kernelspec": {
   "display_name": "Python 3 (ipykernel)",
   "language": "python",
   "name": "python3"
  },
  "language_info": {
   "codemirror_mode": {
    "name": "ipython",
    "version": 3
   },
   "file_extension": ".py",
   "mimetype": "text/x-python",
   "name": "python",
   "nbconvert_exporter": "python",
   "pygments_lexer": "ipython3",
   "version": "3.10.0"
  }
 },
 "nbformat": 4,
 "nbformat_minor": 5
}
